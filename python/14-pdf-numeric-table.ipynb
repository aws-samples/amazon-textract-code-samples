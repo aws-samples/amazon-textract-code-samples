{
 "cells": [
  {
   "attachments": {},
   "cell_type": "markdown",
   "metadata": {},
   "source": [
    "# Numeric Table Detection\n"
   ]
  },
  {
   "cell_type": "markdown",
   "metadata": {},
   "source": [
    "The objective is to demonstrate detection of tables in raw texxt to use targeted table extraction and lower the cost of using Textract.\n",
    "Exmple for 1M pages per month containing 19% of pages with at leaqst 1 table. \n",
    "\n",
    "https://calculator.aws/#/estimate?id=18c806f2696f894da0c8967a1697f1120279f693\n"
   ]
  },
  {
   "cell_type": "markdown",
   "metadata": {},
   "source": [
    "# Notebook Setup\n",
    "\n",
    "In this step, we will import some necessary libraries that will be used throughout this notebook. "
   ]
  },
  {
   "cell_type": "code",
   "execution_count": null,
   "metadata": {
    "tags": []
   },
   "outputs": [],
   "source": [
    "!python -m pip install -q amazon-textract-response-parser --upgrade\n",
    "!python -m pip install -q amazon-textract-caller --upgrade\n",
    "!python -m pip install -q amazon-textract-prettyprinter==0.0.16\n",
    "!python -m pip install -q amazon-textract-textractor --upgrade\n",
    "!python -m pip install -q pymupdf \n",
    "!python -m pip install -q PyPDF2"
   ]
  },
  {
   "cell_type": "code",
   "execution_count": null,
   "metadata": {},
   "outputs": [],
   "source": [
    "#Restart the kernel\n",
    "import IPython\n",
    "IPython.Application.instance().kernel.do_shutdown(True)"
   ]
  },
  {
   "cell_type": "code",
   "execution_count": null,
   "metadata": {
    "tags": []
   },
   "outputs": [],
   "source": [
    "import boto3\n",
    "import botocore\n",
    "import sagemaker\n",
    "import pandas as pd\n",
    "from IPython.display import Image, display, JSON, HTML\n",
    "from textractcaller.t_call import call_textract, Textract_Features, call_textract_expense\n",
    "from textractprettyprinter.t_pretty_print import convert_table_to_list\n",
    "from trp import Document\n",
    "import os\n",
    "\n",
    "\n",
    "# variables\n",
    "data_bucket = sagemaker.Session().default_bucket()\n",
    "region = boto3.session.Session().region_name\n",
    "account_id = boto3.client('sts').get_caller_identity().get('Account')\n",
    "\n",
    "os.environ[\"BUCKET\"] = data_bucket\n",
    "os.environ[\"REGION\"] = region\n",
    "role = sagemaker.get_execution_role()\n",
    "\n",
    "print(f\"SageMaker role is: {role}\\nDefault SageMaker Bucket: s3://{data_bucket}\")\n",
    "\n",
    "s3=boto3.client('s3')\n",
    "textract = boto3.client('textract', region_name=region)\n",
    "comprehend=boto3.client('comprehend', region_name=region)\n",
    "comprehendmedical=boto3.client('comprehendmedical', region_name=region)"
   ]
  },
  {
   "cell_type": "code",
   "execution_count": null,
   "metadata": {
    "tags": []
   },
   "outputs": [],
   "source": [
    "file=\"./DemoTable.pdf\"\n",
    "file_key=f\"idp/textract/demo/{os.path.basename(file)}\"\n",
    "\n",
    "!aws s3 cp {file} s3://{data_bucket}/{file_key} --only-show-errors"
   ]
  },
  {
   "cell_type": "code",
   "execution_count": null,
   "metadata": {
    "tags": []
   },
   "outputs": [],
   "source": [
    "\n",
    "from IPython.display import IFrame\n",
    "IFrame(file, width=1500, height=600)"
   ]
  },
  {
   "attachments": {},
   "cell_type": "markdown",
   "metadata": {},
   "source": [
    "---\n",
    "Extract unstructured data with Amazon Textract \n",
    "\n",
    "Amazon Textract is an ML powered OCR service that is capable of detecting and extracting text from documents. Text data in the form of WORDS and LINES can be extracted from documents using Amazon Textract `DetectDocumentText` API. Let's extract the words and lines from the demonstration document."
   ]
  },
  {
   "cell_type": "code",
   "execution_count": null,
   "metadata": {
    "scrolled": true,
    "tags": []
   },
   "outputs": [],
   "source": [
    "# Call Amazon Textract\n",
    "response = call_textract(input_document=\"s3://{data_bucket}/\"+file_key)\n",
    "\n",
    "text=\"\"\n",
    "# Print detected text\n",
    "for item in response[\"Blocks\"]:\n",
    "    if item[\"BlockType\"] == \"LINE\":\n",
    "        text=text+\"\\n\"+item[\"Text\"]\n",
    "print (text)"
   ]
  },
  {
   "attachments": {},
   "cell_type": "markdown",
   "metadata": {},
   "source": [
    "---\n",
    "# Detect Tables in raw text\n",
    "\n",
    "In this example using a threashold of 4 characters out of the 15 most used characters being digits works well to identify if the page is mostly constituted of numeric tables.\n",
    "\n"
   ]
  },
  {
   "cell_type": "code",
   "execution_count": null,
   "metadata": {
    "tags": []
   },
   "outputs": [],
   "source": [
    "from collections import Counter\n",
    "\n",
    "\n",
    "def containsatable(textcontent):\n",
    "    counter = Counter(textcontent)\n",
    "    mostcom = counter.most_common(15)\n",
    "    countdigit=0\n",
    "    for i in mostcom :\n",
    "        if (i[0].isdigit()):\n",
    "            countdigit=countdigit+1\n",
    "    return(countdigit>=4)\n",
    "\n"
   ]
  },
  {
   "cell_type": "code",
   "execution_count": null,
   "metadata": {
    "tags": []
   },
   "outputs": [],
   "source": [
    "from trp import Document\n",
    "import math\n",
    "doc = Document(response)\n",
    "#print(doc.pages[0])\n",
    "# Iterate over elements in the document\n",
    "pagenum=0\n",
    "pageswithtables=[]\n",
    "for page in doc.pages:\n",
    "    pagenum=pagenum+1\n",
    "    text=''\n",
    "    for line in page.lines:\n",
    "        text=text+line.text\n",
    "    if (containsatable(text)):\n",
    "        pageswithtables.append(pagenum)\n",
    "\n",
    "print(\"List of pages with Tables:\")        \n",
    "print (pageswithtables)\n",
    "print(\"Percentage of pages with tables:\")    \n",
    "print (str(len(pageswithtables))+\"/\"+str(pagenum))\n",
    "print (str(math.trunc(len(pageswithtables)/pagenum*100))+\"%\")\n",
    "    \n"
   ]
  },
  {
   "attachments": {},
   "cell_type": "markdown",
   "metadata": {},
   "source": [
    "# Call Analyse Documents only on the pages with tables\n",
    "First, we build a smaller PDF document containing only the pages identified as containing tables and then we run the AnalyzeDocument call on the new document."
   ]
  },
  {
   "cell_type": "code",
   "execution_count": null,
   "metadata": {},
   "outputs": [],
   "source": [
    "from PyPDF2 import PdfReader, PdfWriter\n",
    "\n",
    "pdf_file_path = file\n",
    "file_base_name = pdf_file_path.replace('.pdf', '')\n",
    "\n",
    "pdf = PdfReader(pdf_file_path)\n",
    "\n",
    "pages = pageswithtables\n",
    "pdfWriter = PdfWriter()\n",
    "\n",
    "for page_num in pages:\n",
    "    pdfWriter.add_page(pdf.pages[page_num])\n",
    "\n",
    "pdf_out = open(\"temp.pdf\", 'wb')\n",
    "pdfWriter.write(pdf_out)\n",
    "pdf_out.close()\n"
   ]
  },
  {
   "cell_type": "code",
   "execution_count": null,
   "metadata": {
    "tags": []
   },
   "outputs": [],
   "source": [
    "!aws s3 cp temp.pdf s3://{data_bucket}/temp.pdf --only-show-errors"
   ]
  },
  {
   "cell_type": "code",
   "execution_count": null,
   "metadata": {
    "tags": []
   },
   "outputs": [],
   "source": [
    "resp = call_textract(input_document=\"s3://{data_bucket}/temp.pdf\", features=[Textract_Features.TABLES])\n",
    "tdoc = Document(resp)\n",
    "dfs = list()\n",
    "\n",
    "for page in tdoc.pages:\n",
    "    for table in page.tables:\n",
    "        tab_list = convert_table_to_list(trp_table=table)\n",
    "        print(tab_list)\n",
    "        dfs.append(pd.DataFrame(tab_list))\n",
    "\n",
    "df1 = dfs[0]\n",
    "df2 = dfs[1]"
   ]
  },
  {
   "cell_type": "code",
   "execution_count": null,
   "metadata": {},
   "outputs": [],
   "source": []
  }
 ],
 "metadata": {
  "instance_type": "ml.t3.medium",
  "kernelspec": {
   "display_name": "Python 3 (Data Science)",
   "language": "python",
   "name": "python3__SAGEMAKER_INTERNAL__arn:aws:sagemaker:us-east-1:081325390199:image/datascience-1.0"
  },
  "language_info": {
   "codemirror_mode": {
    "name": "ipython",
    "version": 3
   },
   "file_extension": ".py",
   "mimetype": "text/x-python",
   "name": "python",
   "nbconvert_exporter": "python",
   "pygments_lexer": "ipython3",
   "version": "3.7.10"
  }
 },
 "nbformat": 4,
 "nbformat_minor": 4
}
