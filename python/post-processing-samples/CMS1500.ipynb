{
 "cells": [
  {
   "cell_type": "markdown",
   "id": "4578c90d",
   "metadata": {},
   "source": [
    "# Post-processing CMS1500 forms using Textract Geofinder Library \n",
    "\n",
    "\n",
    "\n",
    "In document processing workflows, often times we need post-processing techniques to extract consistently formatted entities and improve the accuracy of the data ingested from documents to downstream systems. **Textractor** is a python package created to seamlessly work with [Amazon Textract](https://docs.aws.amazon.com/textract/latest/dg/what-is.html) a document intelligence service offering text recognition, table extraction, form processing, and much more. Whether you are making a one-off script or a complex distributed document processing pipeline, Textractor makes it easy to use Textract offering various post-processing capabilities.\n",
    "\n",
    "Below are the different amazon-textract-* packages, you can find them using the links below:\n",
    "\n",
    "- [amazon-textract-caller](https://github.com/aws-samples/amazon-textract-textractor/tree/master/caller) (to simplify calling Amazon Textract without additional dependencies)\n",
    "- [amazon-textract-response-parser](https://pypi.org/project/amazon-textract-response-parser/) (to parse the JSON response returned by Textract APIs)\n",
    "- [amazon-textract-overlayer](https://github.com/aws-samples/amazon-textract-textractor/tree/master/overlayer) (to draw bounding boxes around the document entities on the document image)\n",
    "- [amazon-textract-prettyprinter](https://github.com/aws-samples/amazon-textract-textractor/tree/master/prettyprinter) (convert Amazon Textract response to CSV, text, markdown, ...)\n",
    "- [amazon-textract-geofinder](https://github.com/aws-samples/amazon-textract-textractor/tree/master/tpipelinegeofinder) (extract specific information from document with methods that help navigate the document using geometry and relations, e. g. hierarchical key/value pairs)\n",
    "\n",
    "\n"
   ]
  },
  {
   "cell_type": "markdown",
   "id": "a0c0e70c",
   "metadata": {},
   "source": [
    "## Installation\n",
    "You will need to run the cell below only once for installation. \n",
    "In this use case, Amazon Textract Geofinder is the main package that we will use. \n",
    "\n",
    "\n",
    "[Amazon Textract Geofinder](https://pypi.org/project/amazon-textract-geofinder/) : Amazon Textract package to easier access data through geometric information and extract specific entities.\n",
    "\n",
    "<b>Use cases include:</b>\n",
    "\n",
    "   -  Give context to key/value pairs from the Amazon Textract AnalyzeDocument API for FORMS\n",
    "   -  Find values in specific areas\n"
   ]
  },
  {
   "cell_type": "code",
   "execution_count": null,
   "id": "163dde71",
   "metadata": {
    "jupyter": {
     "outputs_hidden": true
    },
    "scrolled": true
   },
   "outputs": [],
   "source": [
    "!python -m pip install amazon-textract-helper amazon-textract-geofinder"
   ]
  },
  {
   "cell_type": "markdown",
   "id": "df58d2ae",
   "metadata": {},
   "source": [
    "## Notebook setup"
   ]
  },
  {
   "cell_type": "code",
   "execution_count": 1,
   "id": "5f3a724f",
   "metadata": {},
   "outputs": [],
   "source": [
    "from textractgeofinder.ocrdb import AreaSelection\n",
    "from textractgeofinder.tgeofinder import KeyValue, TGeoFinder, AreaSelection, SelectionElement\n",
    "from textractprettyprinter.t_pretty_print import get_forms_string\n",
    "from textractcaller import call_textract\n",
    "from textractcaller.t_call import Textract_Features\n",
    "import trp.trp2 as t2"
   ]
  },
  {
   "cell_type": "markdown",
   "id": "b39b7838",
   "metadata": {},
   "source": [
    "### Other helper libraries for Textract response parsing : \n",
    "\n",
    "- Using <b>call_textract( )</b> from the [Textract-Caller](https://github.com/aws-samples/amazon-textract-textractor/tree/c689441c0562afb4976d4f248559e59289a33777/caller) library makes it is easy to parse JSON responses from AnalyzeDocument API.\n",
    "\n",
    "- Also using [Textract-PrettyPrinter](https://github.com/aws-samples/amazon-textract-textractor/tree/master/prettyprinter) library that provides functions to format the output received from Textract in more easily consumable formats such as CSV."
   ]
  },
  {
   "cell_type": "code",
   "execution_count": 2,
   "id": "095f2108",
   "metadata": {},
   "outputs": [],
   "source": [
    "# path to the image/file \n",
    "image_filename='./doc-samples/CMS1500.png'\n",
    "\n",
    "j = call_textract(input_document=image_filename, features=[Textract_Features.FORMS])"
   ]
  },
  {
   "cell_type": "code",
   "execution_count": 3,
   "id": "7faf96db",
   "metadata": {},
   "outputs": [],
   "source": [
    "# loading the response JSON to TDocumentSchema Object.\n",
    "t_document = t2.TDocumentSchema().load(j)\n",
    "doc_height = 1000\n",
    "doc_width = 1000\n",
    "# loading the response JSON to TGeoFinder Schema Object.\n",
    "geofinder_doc = TGeoFinder(j, doc_height=doc_height, doc_width=doc_width)"
   ]
  },
  {
   "cell_type": "markdown",
   "id": "d247c630",
   "metadata": {},
   "source": [
    "## Use case 1 : Hierarchical Key-Value mapping\n"
   ]
  },
  {
   "cell_type": "markdown",
   "id": "e382f2bd",
   "metadata": {},
   "source": [
    "Here, we define <b>set_hierachy_kv</b> is a helper function to add \"virtual\" Heirarchical keys to indicate context to the leaf key-value pairs."
   ]
  },
  {
   "cell_type": "code",
   "execution_count": 4,
   "id": "f5f47242",
   "metadata": {},
   "outputs": [],
   "source": [
    "def set_hierarchy_kv(list_kv: list[KeyValue], t_document: t2.TDocument, page_block: t2.TBlock, prefix=\"BORROWER\"):\n",
    "    for x in list_kv:\n",
    "        t_document.add_virtual_key_for_existing_key(key_name=f\"{prefix}_{x.key.text}\",\n",
    "                                                    existing_key=t_document.get_block_by_id(x.key.id),\n",
    "                                                    page_block=page_block)"
   ]
  },
  {
   "cell_type": "markdown",
   "id": "4c66ec9d",
   "metadata": {},
   "source": [
    "We then find the relevant phrases in the document to specify the area of key value pairs related to the patient information. Further, we will use this information to add new key value pairs with their \"Hierarchical\" parent key to the Amazon Textract Response JSON Schema."
   ]
  },
  {
   "cell_type": "code",
   "execution_count": 5,
   "id": "4907b3c8",
   "metadata": {},
   "outputs": [],
   "source": [
    "\n",
    "# Using geometrical information in the form for mapping keys to Item #6 Patient Relationship\n",
    "\n",
    "patient_dob = geofinder_doc.find_phrase_on_page(\"6. PATIENT RELATIONSHIP TO INSURED\")[0]\n",
    "patient_relationship = geofinder_doc.find_phrase_on_page(\"8. PATIENT STATUS\",min_textdistance=0.99)[0]\n",
    "\n",
    "top_left = t2.TPoint(y=patient_dob.ymax, x=0)\n",
    "lower_right = t2.TPoint(y=patient_relationship.ymin, x=doc_width)\n",
    "\n",
    "\n",
    "form_fields = geofinder_doc.get_form_fields_in_area(\n",
    "    area_selection=AreaSelection(top_left=top_left, lower_right=lower_right, page_number=1))\n",
    "set_hierarchy_kv(list_kv=form_fields,\n",
    "                 t_document=t_document,\n",
    "                 prefix='6_PT_RELATIONSHIP',\n",
    "                 page_block=t_document.pages[0])\n"
   ]
  },
  {
   "cell_type": "markdown",
   "id": "df55c7a9",
   "metadata": {},
   "source": [
    "All the keys now have a context which makes it possible to parse the response in downstream processes. \n",
    "\n",
    "For eg.: for Item #6, the keys now have a hierarchical key `6_PT_RELATIONSHIP` i.e. `6_PT_RELATIONSHIP_spouse` shows `SELECTED` and the rest of the keys show `NOT_SELECTED` in their values."
   ]
  },
  {
   "cell_type": "code",
   "execution_count": 6,
   "id": "c4e3ebe0",
   "metadata": {},
   "outputs": [
    {
     "name": "stdout",
     "output_type": "stream",
     "text": [
      "|----------------------------------------------------------------------------------------------|----------------------------------------------------------|\n",
      "| Key                                                                                          | Value                                                    |\n",
      "| Single                                                                                       | NOT_SELECTED                                             |\n",
      "| 7. INSURED'S ADDRESS (No., Street)                                                           | 123 Any Street                                           |\n",
      "| CITY                                                                                         | Any City                                                 |\n",
      "| 32. NAME AND ADDRESS OF FACILITY WHERE SERVICES WERE RENDERED (If other than home or office) | Mateo Jackson PhD 9876 Healthcare Ave Any Town, CA 92126 |\n",
      "| Employed                                                                                     | NOT_SELECTED                                             |\n",
      "| TELEPHONE (Include Area Code)                                                                | ( 858 ) 555-0100                                         |\n",
      "| Child                                                                                        | NOT_SELECTED                                             |\n",
      "| YES                                                                                          | NOT_SELECTED                                             |\n",
      "| NO                                                                                           | SELECTED                                                 |\n",
      "| YES                                                                                          | SELECTED                                                 |\n",
      "| Other                                                                                        | NOT_SELECTED                                             |\n",
      "| C. INSURANCE PLAN NAME OR PROGRAM NAME                                                       | Group Insur of Amer.                                     |\n",
      "| Part-Time Student                                                                            | NOT_SELECTED                                             |\n",
      "| d. INSURANCE PLAN NAME OR PROGRAM NAME                                                       |                                                          |\n",
      "| ZIP CODE                                                                                     | 92127                                                    |\n",
      "| NO                                                                                           | SELECTED                                                 |\n",
      "| 2. PATIENT'S NAME (Last Name, First Name, Middle Initial)                                    | Doe, John                                                |\n",
      "| Spouse                                                                                       | SELECTED                                                 |\n",
      "| (Medicaid #)                                                                                 | NOT_SELECTED                                             |\n",
      "| Married                                                                                      | SELECTED                                                 |\n",
      "| Full-Time Student                                                                            | NOT_SELECTED                                             |\n",
      "| YES                                                                                          | NOT_SELECTED                                             |\n",
      "| (VA File #)                                                                                  | NOT_SELECTED                                             |\n",
      "| YES                                                                                          | NOT_SELECTED                                             |\n",
      "| YES                                                                                          | NOT_SELECTED                                             |\n",
      "| 10d. RESERVED FOR LOCAL USE                                                                  |                                                          |\n",
      "| ZIP CODE                                                                                     | 92127                                                    |\n",
      "| NO                                                                                           | NOT_SELECTED                                             |\n",
      "| Self                                                                                         | NOT_SELECTED                                             |\n",
      "| YES                                                                                          | NOT_SELECTED                                             |\n",
      "| TELEPHONE (INCLUDE AREA CODE)                                                                | ( 858 ) 555-0100                                         |\n",
      "| 11. INSURED'S POLICY GROUP OR FECA NUMBER                                                    | G4683A                                                   |\n",
      "| 5. PATIENT'S ADDRESS (No., Street)                                                           | 123 Any Street                                           |\n",
      "| (ID)                                                                                         | NOT_SELECTED                                             |\n",
      "| 9. OTHER INSURED'S NAME (Last Name, First Name, Middle Initial)                              |                                                          |\n",
      "| DATE                                                                                         | 01-15-2021                                               |\n",
      "| CITY                                                                                         | Any City                                                 |\n",
      "| EIN                                                                                          | NOT_SELECTED                                             |\n",
      "| NO                                                                                           | NOT_SELECTED                                             |\n",
      "| Other                                                                                        | NOT_SELECTED                                             |\n",
      "| 17. NAME OF REFERRING PHYSICIAN OR OTHER SOURCE                                              | Self                                                     |\n",
      "| SIGNED                                                                                       | MtJackson                                                |\n",
      "| 29. AMOUNT PAID                                                                              | $                                                        |\n",
      "| C. EMPLOYER'S NAME OR SCHOOL NAME                                                            |                                                          |\n",
      "| (Medicare #)                                                                                 | SELECTED                                                 |\n",
      "| 4. INSURED'S NAME (Last Name, First Name, Middle Initial)                                    | Doe, Jane                                                |\n",
      "| 17a. I.D. NUMBER OF REFERRING PHYSICIAN                                                      |                                                          |\n",
      "| MM                                                                                           | 10                                                       |\n",
      "| a. OTHER INSURED'S POLICY OR GROUP NUMBER                                                    |                                                          |\n",
      "| DATE                                                                                         | 10/11/21                                                 |\n",
      "| FECA BLK LUNG (SSN)                                                                          | NOT_SELECTED                                             |\n",
      "| M                                                                                            | SELECTED                                                 |\n",
      "| b. EMPLOYER'S NAME OR SCHOOL NAME                                                            |                                                          |\n",
      "| 23. PRIOR AUTHORIZATION NUMBER                                                               |                                                          |\n",
      "| MM                                                                                           | 06                                                       |\n",
      "| SIGNED                                                                                       | JaneDoe                                                  |\n",
      "| STATE                                                                                        | CA                                                       |\n",
      "| GRP#                                                                                         |                                                          |\n",
      "| YY                                                                                           | 21                                                       |\n",
      "| CODE                                                                                         |                                                          |\n",
      "| M                                                                                            | NOT_SELECTED                                             |\n",
      "| NO                                                                                           | SELECTED                                                 |\n",
      "| F                                                                                            | SELECTED                                                 |\n",
      "| NO                                                                                           | SELECTED                                                 |\n",
      "| 19. RESERVED FOR LOCAL USE                                                                   |                                                          |\n",
      "| DD                                                                                           | 11                                                       |\n",
      "| SIGNED                                                                                       | Jdoe                                                     |\n",
      "| SSN                                                                                          | SELECTED                                                 |\n",
      "| DD                                                                                           |                                                          |\n",
      "| DD                                                                                           | 12                                                       |\n",
      "| 3.                                                                                           | R19 7                                                    |\n",
      "| 30. BALANCE DUE                                                                              | $                                                        |\n",
      "| 26. PATIENT'S ACCOUNT NO.                                                                    |                                                          |\n",
      "| 4.                                                                                           | K92 1                                                    |\n",
      "| ORIGINAL REF. NO.                                                                            |                                                          |\n",
      "| STATE                                                                                        | CA                                                       |\n",
      "| SEX                                                                                          | F                                                        |\n",
      "| M                                                                                            | NOT_SELECTED                                             |\n",
      "| 1a. INSURED'S I.D. NUMBER                                                                    | 11-2234-10190                                            |\n",
      "| DD                                                                                           |                                                          |\n",
      "| MM                                                                                           | 10                                                       |\n",
      "| GROUP HEALTH PLAN (SSN or ID)                                                                | NOT_SELECTED                                             |\n",
      "| DD                                                                                           |                                                          |\n",
      "| MM                                                                                           |                                                          |\n",
      "| 25. FEDERAL TAX I.D. NUMBER                                                                  | 555-88-9999                                              |\n",
      "| DD                                                                                           |                                                          |\n",
      "| YY                                                                                           |                                                          |\n",
      "| DD                                                                                           |                                                          |\n",
      "| DD                                                                                           |                                                          |\n",
      "| YY                                                                                           |                                                          |\n",
      "| PICA                                                                                         | NOT_SELECTED                                             |\n",
      "| 10. IS PATIENT'S CONDITION RELATED TO:                                                       |                                                          |\n",
      "| (Sponsor's SSN)                                                                              | NOT_SELECTED                                             |\n",
      "| F                                                                                            | NOT_SELECTED                                             |\n",
      "| PIN#                                                                                         | Any Town, CA 92126                                       |\n",
      "| TO                                                                                           |                                                          |\n",
      "| PICA                                                                                         | NOT_SELECTED                                             |\n",
      "| 1.                                                                                           | R11 0                                                    |\n",
      "| MM                                                                                           |                                                          |\n",
      "| MM                                                                                           |                                                          |\n",
      "| 2.                                                                                           | K59 00                                                   |\n",
      "| YY                                                                                           |                                                          |\n",
      "| MM                                                                                           |                                                          |\n",
      "| (FOR PROGRAM IN ITEM 1)                                                                      |                                                          |\n",
      "| 28. TOTAL CHARGE                                                                             | $ 405.00                                                 |\n",
      "| 24.                                                                                          | A                                                        |\n",
      "| 6_PT_RELATIONSHIP_self                                                                       | NOT_SELECTED                                             |\n",
      "| 6_PT_RELATIONSHIP_spouse                                                                     | SELECTED                                                 |\n",
      "| 6_PT_RELATIONSHIP_child                                                                      | NOT_SELECTED                                             |\n",
      "| 6_PT_RELATIONSHIP_other                                                                      | NOT_SELECTED                                             |\n",
      "\n",
      "\n"
     ]
    }
   ],
   "source": [
    "print(get_forms_string(t2.TDocumentSchema().dump(t_document)))"
   ]
  },
  {
   "cell_type": "code",
   "execution_count": null,
   "id": "1dbc7c7c",
   "metadata": {},
   "outputs": [],
   "source": []
  }
 ],
 "metadata": {
  "instance_type": "ml.t3.medium",
  "kernelspec": {
   "display_name": "Python 3 (ipykernel)",
   "language": "python",
   "name": "python3"
  },
  "language_info": {
   "codemirror_mode": {
    "name": "ipython",
    "version": 3
   },
   "file_extension": ".py",
   "mimetype": "text/x-python",
   "name": "python",
   "nbconvert_exporter": "python",
   "pygments_lexer": "ipython3",
   "version": "3.9.5"
  }
 },
 "nbformat": 4,
 "nbformat_minor": 5
}
