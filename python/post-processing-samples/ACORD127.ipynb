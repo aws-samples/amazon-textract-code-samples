{
 "cells": [
  {
   "cell_type": "markdown",
   "id": "1c75471f",
   "metadata": {},
   "source": [
    "# Processing ACORD-127 forms using Textract post-processing libraries"
   ]
  },
  {
   "cell_type": "markdown",
   "id": "505aa812",
   "metadata": {},
   "source": [
    "## Use case : Hierarchical Key-Value mapping\n",
    "\n",
    "When a document contains hierarchical structuring, it is an important IDP post-processing task to infer the context within the structures. For eg.: In the document sample of an ACORD 127 form - Page 3 below, we want to infer the relationships between each `Veh #` keys to their corresponding vehical information items within each highlighted section. This can be done using Textract post-processing libraries for hierarchical key-value pairs mapping. \n"
   ]
  },
  {
   "cell_type": "code",
   "execution_count": 1,
   "id": "f5c72002",
   "metadata": {},
   "outputs": [
    {
     "data": {
      "text/html": [
       "\n",
       "        <iframe\n",
       "            width=\"500\"\n",
       "            height=\"600\"\n",
       "            src=\"doc-samples/Acord-127-pg3-annotated.png\"\n",
       "            frameborder=\"0\"\n",
       "            allowfullscreen\n",
       "            \n",
       "        ></iframe>\n",
       "        "
      ],
      "text/plain": [
       "<IPython.lib.display.IFrame at 0x7fe4589b3760>"
      ]
     },
     "metadata": {},
     "output_type": "display_data"
    }
   ],
   "source": [
    "from PIL import Image\n",
    "from IPython.display import Image, display, HTML, JSON, IFrame\n",
    "\n",
    "documentName = \"doc-samples/Acord-127-pg3-annotated.png\"\n",
    "display(IFrame(documentName, 500, 600));"
   ]
  },
  {
   "cell_type": "markdown",
   "id": "0247490c",
   "metadata": {},
   "source": [
    "## Step 1: Installation\n"
   ]
  },
  {
   "cell_type": "markdown",
   "id": "d8905718",
   "metadata": {},
   "source": [
    "### [Amazon Textract Geofinder](https://pypi.org/project/amazon-textract-geofinder/)\n",
    "Amazon Textract package to easier access data through geometric information.\n",
    "\n",
    "Provides functions to use geometric information to extract information.\n",
    "\n",
    "<b>Use cases include:</b>\n",
    "\n",
    "   -  Give context to key/value pairs from the Amazon Textract AnalyzeDocument API for FORMS\n",
    "   -  Find values in specific areas\n",
    "   \n",
    "### Other helper libraries for Textract response parsing : \n",
    "\n",
    "- Using <b>call_textract( )</b> from the [Textract-Caller](https://github.com/aws-samples/amazon-textract-textractor/tree/c689441c0562afb4976d4f248559e59289a33777/caller) library makes it is easy to parse JSON responses from AnalyzeDocument API.\n",
    "\n",
    "- Also using [Textract-PrettyPrinter](https://github.com/aws-samples/amazon-textract-textractor/tree/master/prettyprinter) library that provides functions to format the output received from Textract in more easily consumable formats such as CSV.\n",
    "\n",
    "You will need to run the cell below only once for installation.\n"
   ]
  },
  {
   "cell_type": "code",
   "execution_count": null,
   "id": "738b33d2",
   "metadata": {
    "jupyter": {
     "outputs_hidden": true
    },
    "tags": []
   },
   "outputs": [],
   "source": [
    "!python -m pip install amazon-textract-helper amazon-textract-geofinder amazon-textract-caller amazon-textract-response-parser --upgrade "
   ]
  },
  {
   "cell_type": "code",
   "execution_count": null,
   "id": "c8b6d343",
   "metadata": {},
   "outputs": [],
   "source": [
    "from textractgeofinder.ocrdb import AreaSelection\n",
    "from textractgeofinder.tgeofinder import KeyValue, TGeoFinder, AreaSelection, SelectionElement\n",
    "from textractprettyprinter.t_pretty_print import get_forms_string, convert_form_to_list_trp2\n",
    "\n",
    "from textractcaller.t_call import call_textract\n",
    "from textractcaller.t_call import Textract_Features\n",
    "\n",
    "import trp.trp2 as t2"
   ]
  },
  {
   "cell_type": "markdown",
   "id": "ca0940f5",
   "metadata": {},
   "source": [
    "This is the image we want to extract information from."
   ]
  },
  {
   "cell_type": "code",
   "execution_count": null,
   "id": "d9f73561",
   "metadata": {
    "tags": []
   },
   "outputs": [],
   "source": [
    "from PIL import Image\n",
    "from IPython.display import Image, display, HTML, JSON, IFrame\n",
    "\n",
    "documentName = \"doc-samples/Acord-127-pg3.png\"\n",
    "display(IFrame(documentName, 500, 600));"
   ]
  },
  {
   "cell_type": "markdown",
   "id": "4031e636",
   "metadata": {},
   "source": [
    "Calling Amazon Textract with the textractcaller library is easy. "
   ]
  },
  {
   "cell_type": "code",
   "execution_count": null,
   "id": "65cb6ead",
   "metadata": {},
   "outputs": [],
   "source": [
    "j = call_textract(input_document=documentName, features=[Textract_Features.FORMS, Textract_Features.TABLES])"
   ]
  },
  {
   "cell_type": "code",
   "execution_count": null,
   "id": "0dbb702a",
   "metadata": {},
   "outputs": [],
   "source": [
    "print(get_forms_string(j))"
   ]
  },
  {
   "cell_type": "markdown",
   "id": "23ad2d9c",
   "metadata": {},
   "source": [
    "There are multiple blocktypes in JSON. We need to deserialize the JSON into blocks using trp library."
   ]
  },
  {
   "cell_type": "code",
   "execution_count": null,
   "id": "92a472c6",
   "metadata": {
    "tags": []
   },
   "outputs": [],
   "source": [
    "#from textractcaller.t_call import call_textract, Textract_Features\n",
    "from trp.trp2 import TDocument, TDocumentSchema\n",
    "from trp.t_pipeline import order_blocks_by_geo\n",
    "import trp\n",
    "\n",
    "t_doc = TDocumentSchema().load(j)\n",
    "# the ordered_doc has elements ordered by y-coordinate (top to bottom of page)\n",
    "ordered_doc = order_blocks_by_geo(t_doc)\n",
    "# send to trp for further processing logic\n",
    "trp_doc = trp.Document(TDocumentSchema().dump(ordered_doc))\n",
    "# print(trp_doc)\n"
   ]
  },
  {
   "cell_type": "code",
   "execution_count": null,
   "id": "9ec1e7a4",
   "metadata": {},
   "outputs": [],
   "source": [
    "for page in trp_doc.pages:\n",
    "    for field in page.form.fields:\n",
    "        key = field.key.text if field.key else \"\"\n",
    "        value = field.value.text if field.value else \"\"\n",
    "        print(key, \":\" ,value)\n",
    "        "
   ]
  },
  {
   "cell_type": "code",
   "execution_count": null,
   "id": "dbdf6285",
   "metadata": {},
   "outputs": [],
   "source": [
    "t_document = t2.TDocumentSchema().load(j)\n",
    "doc_height = 1000\n",
    "doc_width = 1000\n",
    "geofinder_doc = TGeoFinder(j, doc_height=doc_height, doc_width=doc_width)"
   ]
  },
  {
   "cell_type": "markdown",
   "id": "709e4811",
   "metadata": {},
   "source": [
    "## Step 2 : Using BoundingBox information given by Textract\n",
    "\n",
    "The [bounding box](https://docs.aws.amazon.com/textract/latest/dg/API_BoundingBox.html) around the detected page, text, key-value pair, table, table cell, or selection element on a document page. \n",
    "\n",
    "We will now find the `Top` variable which is the top coordinate of the bounding box as a ratio of overall document page height.\n",
    "\n",
    "This top variable will be the Y coodinates for each of the `Veh #` from the ACORD 127 form.\n",
    "The X and Y values that are returned are ratios of the overall document page size. For example, if the input document is 700 x 200 and the operation returns X=0.5 and Y=0.25, then the point is at the (350,50) pixel coordinate on the document page.\n",
    "Since, our document dimensions is 1000x1000 (configured in the cell above), we multiple each `vehicle_top` variable by 1000 to get our Y coodinate for each vehicle number."
   ]
  },
  {
   "cell_type": "code",
   "execution_count": null,
   "id": "e8119bd3",
   "metadata": {},
   "outputs": [],
   "source": [
    "vehicle_top_list = []\n",
    "for page in trp_doc.pages:\n",
    "    for field in page.form.fields:\n",
    "        key = field.key.text if field.key else \"\"\n",
    "        value = field.value.text if field.value else \"\"\n",
    "        if (key).lower().startswith('veh'):\n",
    "            vehicle_top = field.geometry.boundingBox.top\n",
    "            vehicle_top_list.append((int(vehicle_top*1000)))"
   ]
  },
  {
   "cell_type": "code",
   "execution_count": null,
   "id": "6ab04c43",
   "metadata": {},
   "outputs": [],
   "source": [
    "vehicle_top_list"
   ]
  },
  {
   "cell_type": "markdown",
   "id": "583d77c5",
   "metadata": {},
   "source": [
    "Define `set_hierachy_kv()` a helper function to add \"virtual\" keys which we use to indicate context."
   ]
  },
  {
   "cell_type": "code",
   "execution_count": null,
   "id": "48f1429e",
   "metadata": {},
   "outputs": [],
   "source": [
    "def set_hierarchy_kv(list_kv: list[KeyValue], t_document: t2.TDocument, page_block: t2.TBlock, prefix=\"BORROWER\"):\n",
    "    for x in list_kv:\n",
    "        t_document.add_virtual_key_for_existing_key(key_name=f\"{prefix}_{x.key.text}\",\n",
    "                                                    existing_key=t_document.get_block_by_id(x.key.id),\n",
    "                                                    page_block=page_block)"
   ]
  },
  {
   "cell_type": "markdown",
   "id": "e384b97c",
   "metadata": {},
   "source": [
    "Let's see what does the second coordinate for lower-right look like? We can simply run the geo-finder method `find_phrase_on_page()` to find the 4 places where <b>\"Total prem:\"</b> appears in the document sample. "
   ]
  },
  {
   "cell_type": "code",
   "execution_count": null,
   "id": "98738ec3",
   "metadata": {},
   "outputs": [],
   "source": [
    "geofinder_doc.find_phrase_on_page(\"total prem:\", min_textdistance=0.99)"
   ]
  },
  {
   "cell_type": "markdown",
   "id": "599d11fb",
   "metadata": {},
   "source": [
    "## Step 3 : Map the Vehicle # to their corresponding kv pairs\n",
    "\n",
    "We find the relevant phrases in the document to specify the area of key value pairs related to the patient information.\n",
    "\n",
    "We then use this information to add new key value pairs to the Amazon Textract Response JSON Schema"
   ]
  },
  {
   "cell_type": "code",
   "execution_count": null,
   "id": "3a4511a7",
   "metadata": {},
   "outputs": [],
   "source": [
    "# Vehicle 1 geo-info\n",
    "top_left = t2.TPoint(y=vehicle_top_list[0], x=0)\n",
    "total_prem_1 = geofinder_doc.find_phrase_on_page(\"total prem:\", min_textdistance=0.99)[0]\n",
    "lower_right = t2.TPoint(y=total_prem_1.ymin, x=doc_width)\n",
    "\n",
    "# Vehicle 1 hierarchical key\n",
    "form_fields = geofinder_doc.get_form_fields_in_area(\n",
    "    area_selection=AreaSelection(top_left=top_left, lower_right=lower_right, page_number=1))\n",
    "set_hierarchy_kv(list_kv=form_fields,\n",
    "                 t_document=t_document,\n",
    "                 prefix='Veh_1',\n",
    "                 page_block=t_document.pages[0])\n",
    "\n",
    "# Vehicle 2 geo-info\n",
    "top_left = t2.TPoint(y=vehicle_top_list[1], x=0)\n",
    "total_prem_2 = geofinder_doc.find_phrase_on_page(\"total prem:\", min_textdistance=0.99)[1]\n",
    "lower_right = t2.TPoint(y=total_prem_2.ymin, x=doc_width)\n",
    "\n",
    "# Vehicle 2 hierarchical key\n",
    "form_fields = geofinder_doc.get_form_fields_in_area(\n",
    "    area_selection=AreaSelection(top_left=top_left, lower_right=lower_right, page_number=1))\n",
    "set_hierarchy_kv(list_kv=form_fields,\n",
    "                 t_document=t_document,\n",
    "                 prefix='Veh_2',\n",
    "                 page_block=t_document.pages[0])\n",
    "\n",
    "# Vehicle 3 geo-info\n",
    "top_left = t2.TPoint(y=vehicle_top_list[2], x=0)\n",
    "total_prem_3 = geofinder_doc.find_phrase_on_page(\"total prem:\", min_textdistance=0.99)[2]\n",
    "lower_right = t2.TPoint(y=total_prem_3.ymin, x=doc_width)\n",
    "\n",
    "# Vehicle 3 hierarchical key\n",
    "form_fields = geofinder_doc.get_form_fields_in_area(\n",
    "    area_selection=AreaSelection(top_left=top_left, lower_right=lower_right, page_number=1))\n",
    "set_hierarchy_kv(list_kv=form_fields,\n",
    "                 t_document=t_document,\n",
    "                 prefix='Veh_3',\n",
    "                 page_block=t_document.pages[0])\n",
    "\n",
    "# Vehicle 4 geo-info\n",
    "top_left = t2.TPoint(y=vehicle_top_list[3], x=0)\n",
    "total_prem_4 = geofinder_doc.find_phrase_on_page(\"total prem:\", min_textdistance=0.99)[3]\n",
    "lower_right = t2.TPoint(y=total_prem_4.ymin, x=doc_width)\n",
    "\n",
    "# Vehicle 4 hierarchical key\n",
    "form_fields = geofinder_doc.get_form_fields_in_area(\n",
    "    area_selection=AreaSelection(top_left=top_left, lower_right=lower_right, page_number=1))\n",
    "set_hierarchy_kv(list_kv=form_fields,\n",
    "                 t_document=t_document,\n",
    "                 prefix='Veh_4',\n",
    "                 page_block=t_document.pages[0])\n"
   ]
  },
  {
   "cell_type": "code",
   "execution_count": null,
   "id": "b4e2fa2f",
   "metadata": {},
   "outputs": [],
   "source": [
    "print(get_forms_string(t2.TDocumentSchema().dump(t_document)))"
   ]
  },
  {
   "cell_type": "markdown",
   "id": "0cbdfb02",
   "metadata": {},
   "source": [
    "## Step 4 : Print forms in Pandas dataframe"
   ]
  },
  {
   "cell_type": "code",
   "execution_count": null,
   "id": "50e31685",
   "metadata": {},
   "outputs": [],
   "source": [
    "import pandas as pd\n",
    "from textractprettyprinter.t_pretty_print import convert_form_to_list\n",
    "from trp import Document\n",
    "\n",
    "tdoc=Document(t2.TDocumentSchema().dump(t_document))\n",
    "\n",
    "dfs = list()\n",
    "for page in tdoc.pages:\n",
    "    dfs.append(pd.DataFrame(convert_form_to_list(trp_form=page.form)))\n"
   ]
  },
  {
   "cell_type": "code",
   "execution_count": null,
   "id": "f5ac6b5e",
   "metadata": {},
   "outputs": [],
   "source": [
    "dfs[0]"
   ]
  },
  {
   "cell_type": "code",
   "execution_count": null,
   "id": "02e48123",
   "metadata": {},
   "outputs": [],
   "source": []
  }
 ],
 "metadata": {
  "kernelspec": {
   "display_name": "Python 3 (ipykernel)",
   "language": "python",
   "name": "python3"
  },
  "language_info": {
   "codemirror_mode": {
    "name": "ipython",
    "version": 3
   },
   "file_extension": ".py",
   "mimetype": "text/x-python",
   "name": "python",
   "nbconvert_exporter": "python",
   "pygments_lexer": "ipython3",
   "version": "3.9.5"
  }
 },
 "nbformat": 4,
 "nbformat_minor": 5
}
